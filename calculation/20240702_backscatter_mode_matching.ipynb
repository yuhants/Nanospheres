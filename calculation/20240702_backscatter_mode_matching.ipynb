{
 "cells": [
  {
   "cell_type": "code",
   "execution_count": 1,
   "id": "8a9bce88-301f-4541-a092-86d2a4748c2f",
   "metadata": {},
   "outputs": [],
   "source": [
    "import numpy as np\n",
    "import scipy.special as scispec\n",
    "\n",
    "import matplotlib.pyplot as plt\n",
    "import sys\n",
    "sys.path.append(r'C:\\Users\\yuhan\\nanospheres\\src')\n",
    "from plotting import load_plotting_config"
   ]
  },
  {
   "cell_type": "code",
   "execution_count": 2,
   "id": "f290f21c-15df-4792-b578-25544e392f3e",
   "metadata": {},
   "outputs": [],
   "source": [
    "load_plotting_config()"
   ]
  },
  {
   "cell_type": "code",
   "execution_count": 4,
   "id": "60152c28-69c1-4223-b4cb-5da949d3b1de",
   "metadata": {},
   "outputs": [
    {
     "data": {
      "text/plain": [
       "50.353888853026284"
      ]
     },
     "execution_count": 4,
     "metadata": {},
     "output_type": "execute_result"
    }
   ],
   "source": [
    "np.arcsin(0.77) *180 / np.pi"
   ]
  },
  {
   "cell_type": "code",
   "execution_count": null,
   "id": "73e52c9f-889a-4855-82bf-63bfeb0cb1dc",
   "metadata": {},
   "outputs": [],
   "source": []
  }
 ],
 "metadata": {
  "kernelspec": {
   "display_name": "Python 3 (ipykernel)",
   "language": "python",
   "name": "python3"
  },
  "language_info": {
   "codemirror_mode": {
    "name": "ipython",
    "version": 3
   },
   "file_extension": ".py",
   "mimetype": "text/x-python",
   "name": "python",
   "nbconvert_exporter": "python",
   "pygments_lexer": "ipython3",
   "version": "3.9.18"
  }
 },
 "nbformat": 4,
 "nbformat_minor": 5
}

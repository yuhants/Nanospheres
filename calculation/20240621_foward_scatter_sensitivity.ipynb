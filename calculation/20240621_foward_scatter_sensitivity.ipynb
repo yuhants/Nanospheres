{
 "cells": [
  {
   "cell_type": "code",
   "execution_count": 1,
   "id": "e7ef014d-9acb-47f8-a235-c262e59c3c41",
   "metadata": {},
   "outputs": [],
   "source": [
    "import numpy as np\n",
    "import matplotlib.pyplot as plt\n",
    "\n",
    "import glob\n",
    "import sys\n",
    "sys.path.append(r'C:\\Users\\yuhan\\nanospheres\\src')\n",
    "from utils import load_timestreams, get_psd\n",
    "from get_sphere_charge import peak_func, fit_peak"
   ]
  },
  {
   "cell_type": "code",
   "execution_count": 2,
   "id": "1c87d22a-2bb8-4d1c-a965-26986ad6ded3",
   "metadata": {},
   "outputs": [],
   "source": [
    "from cycler import cycler\n",
    "colors=['#fe9f6d', '#de4968', '#8c2981', '#3b0f70', '#000004']\n",
    "default_cycler = cycler(color=['#fe9f6d', '#de4968', '#8c2981', '#3b0f70', '#000004'])\n",
    "\n",
    "params = {'figure.figsize': (7, 3),\n",
    "          'axes.prop_cycle': default_cycler,\n",
    "          'axes.titlesize': 14,\n",
    "          'legend.fontsize': 12,\n",
    "          'axes.labelsize': 14,\n",
    "          'axes.titlesize': 14,\n",
    "          'xtick.labelsize': 12,\n",
    "          'ytick.labelsize': 12}\n",
    "plt.rcParams.update(params)"
   ]
  },
  {
   "cell_type": "code",
   "execution_count": 6,
   "id": "d92fa075-7df7-4bce-8cea-5f5f56dbcf0b",
   "metadata": {},
   "outputs": [],
   "source": [
    "def calc_geometric_factor(na):\n",
    "    thetamax = np.arcsin(na)\n",
    "    C = 2 * ( 8 / 15 - (np.cos(thetamax)**(3/2) ) / 3 - (np.cos(thetamax)**(5/2) ) / 5 )\n",
    "    D = 2 * ( 12 / 35 - (np.cos(thetamax)**(5/2) ) / 5 - (np.cos(thetamax)**(7/2) ) / 7 )\n",
    "    return D / C"
   ]
  },
  {
   "cell_type": "code",
   "execution_count": 9,
   "id": "9246f774-dd9f-49a1-9331-7aa9357772eb",
   "metadata": {},
   "outputs": [],
   "source": [
    "def get_imprecision_forward_z(p_sca, na_tl, na_cl):\n",
    "    thetamax_tl = np.arcsin(na_tl)\n",
    "    thetamax_cl = np.arcsin(na_cl)\n",
    "    \n",
    "    A = calc_geometric_factor(na_tl)  # Geometrical factor for z\n",
    "    C = 2 * ( 8 / 15 - (np.cos(thetamax_cl)**(3/2) ) / 3 - (np.cos(thetamax_cl)**(5/2) ) / 5 )\n",
    "    D = 2 * ( 12 / 35 - (np.cos(thetamax_cl)**(5/2) ) / 5 - (np.cos(thetamax_cl)**(7/2) ) / 7 )\n",
    "    B_fw_z = (np.pi / 4) * (D - A * C)\n",
    "\n",
    "    # Use Eq. (D8)  of PRA 100, 04821 (2019)\n",
    "    s_zz_imp = (hbar*c / (k * p_sca)) * (np.pi * na**2 / (48 * B_fw_z**2))\n",
    "    return s_zz_imp"
   ]
  },
  {
   "cell_type": "markdown",
   "id": "8352bd91-29fa-4b0b-86e5-692720679577",
   "metadata": {},
   "source": [
    "Below first copy some stuff from the noise analysis notebook"
   ]
  },
  {
   "cell_type": "markdown",
   "id": "58469a5c-8d72-4728-9503-8fbabd6a1c74",
   "metadata": {},
   "source": [
    "### Estimate power scattered by the sphere\n",
    "\n",
    "First figure out the total scattered power at the trap focus. Use Equation (2.10b) in Vijay Jain's thesis\n",
    "$$\n",
    "    \\Omega_z = \\frac{24}{\\pi c \\rho} (\\frac{\\epsilon - 1}{\\epsilon +2}) (\\frac{\\pi \\mathrm{NA}}{\\lambda})^4   \n",
    "    \\mathrm{NA}^2 P_0,\n",
    "$$\n",
    "where $\\rho = 2200$ kg/m$^3$, $\\epsilon = (1.45)^2$.\n",
    "Also assume the Rayleigh range for a strongly focus beam is 2.6 times larger (this is the case for NA=0.8 but NA=0.77 should be similar) so scale $\\Omega_z \\rightarrow \\Omega_z / (2.6)^2$."
   ]
  },
  {
   "cell_type": "code",
   "execution_count": 4,
   "id": "2376c2b8-4599-49f5-a406-ef50c234813a",
   "metadata": {},
   "outputs": [
    {
     "name": "stdout",
     "output_type": "stream",
     "text": [
      "Power at focus = 140.0 mW, predicted z frequency : (2 pi) 64.86 kHz\n"
     ]
    }
   ],
   "source": [
    "hbar = 1.055e-34 # (J / Hz) = (kg * m^2 / s)\n",
    "c = 3e8\n",
    "rho = 2000\n",
    "epsilon = 1.45**2\n",
    "na = 0.77\n",
    "lambd = 1064e-9\n",
    "k = 2 * np.pi / lambd\n",
    "omega_rayleigh= 2.6 * lambd / (np.pi * na**2)  # 2.6 is a correction to paraxial\n",
    "\n",
    "p0 = 140e-3\n",
    "omegaz = np.sqrt(24/(np.pi * c * rho) * (epsilon-1)/(epsilon+2) * (np.pi * na / lambd)**4 * na**2 * p0) / (2.6**2)\n",
    "\n",
    "print(fr'Power at focus = {p0*1000} mW, predicted z frequency : (2 pi) {omegaz / 2 / np.pi / 1000:.2f} kHz')"
   ]
  },
  {
   "cell_type": "markdown",
   "id": "44efa95d-bb16-4edc-a11c-24ea85634e97",
   "metadata": {},
   "source": [
    "Power scattered by the sphere is given by Eq. (2.24)\n",
    "$$\n",
    "    P_{\\mathrm{sca}} = \\frac{1}{3} \\frac{k^4 \\alpha^2_0}{\\pi^2 \\epsilon^2_0} \\cdot \\frac{1}{\\omega^2_0} P_0,\n",
    "$$\n",
    "where $\\alpha_0 = 3 \\epsilon_0 V (\\epsilon - 1)/(\\epsilon + 2)$ is the polarizability ($V$ is the volume of the sphere). "
   ]
  },
  {
   "cell_type": "code",
   "execution_count": 5,
   "id": "fab894d5-3730-4ff9-9e5c-2667ed523e08",
   "metadata": {
    "scrolled": true
   },
   "outputs": [
    {
     "name": "stdout",
     "output_type": "stream",
     "text": [
      "Power scattered by the sphere = 1.079937 uW\n"
     ]
    }
   ],
   "source": [
    "v = (4/3) * np.pi * (166e-9/2)**3\n",
    "p_sca = (1/3) * (k**4 * v**2 * ((epsilon-1)/(epsilon+2))**2 / (np.pi**2)) / (omega_rayleigh**2) * p0\n",
    "print(f'Power scattered by the sphere = {p_sca * 1e6:2f} uW')"
   ]
  },
  {
   "cell_type": "markdown",
   "id": "a6f72329-d9f8-40bd-a144-14303abced8e",
   "metadata": {},
   "source": [
    "### Backaction noise"
   ]
  },
  {
   "cell_type": "code",
   "execution_count": 7,
   "id": "46b230c5-7c6d-4c0d-908f-d30b624e82e1",
   "metadata": {},
   "outputs": [
    {
     "name": "stdout",
     "output_type": "stream",
     "text": [
      "Estimated (single sided) backaction force noise: 4.90e-42 N^2/Hz\n"
     ]
    }
   ],
   "source": [
    "A = calc_geometric_factor(na)\n",
    "S_ff_z_ba = (A**2 + 2/5) * (hbar * k / c) * p_sca       # Backaction force spectrum\n",
    "S_f_z_ba = 2 * S_ff_z_ba\n",
    "\n",
    "print(f'Estimated (single sided) backaction force noise: {S_f_z_ba:.2e} N^2/Hz')"
   ]
  },
  {
   "cell_type": "markdown",
   "id": "1a614e7f-ab44-40b9-876e-1dbe131e1b16",
   "metadata": {},
   "source": [
    "### Imprecision noise"
   ]
  },
  {
   "cell_type": "code",
   "execution_count": 8,
   "id": "071d4b7f-25a4-4626-b40f-adf0f2a97998",
   "metadata": {},
   "outputs": [
    {
     "name": "stdout",
     "output_type": "stream",
     "text": [
      "Estimated (double sided) imprecision noise: 1.14e-27 m^2/Hz assume no information loss\n"
     ]
    }
   ],
   "source": [
    "S_zz_imp_perfect = (1 / (2/5 + A**2)) * (hbar * c / (4 * k)) / p_sca  # Imprecision assume no information loss\n",
    "print(f'Estimated (double sided) imprecision noise: {S_zz_imp_perfect:.2e} m^2/Hz assume no information loss')"
   ]
  },
  {
   "cell_type": "markdown",
   "id": "76ab1aa9-e0c6-4665-8ec6-c5deda50c561",
   "metadata": {},
   "source": [
    "Now estimate the information collection efficiency for NA=0.5 forward scattering lens then attenuated by a factor of 0.0014."
   ]
  },
  {
   "cell_type": "code",
   "execution_count": 10,
   "id": "cbe309e5-5f00-4d56-a7c2-4f9035e6ce9f",
   "metadata": {},
   "outputs": [
    {
     "name": "stderr",
     "output_type": "stream",
     "text": [
      "C:\\Users\\yuhan\\AppData\\Local\\Temp\\ipykernel_5504\\1378138815.py:11: RuntimeWarning: divide by zero encountered in scalar divide\n",
      "  s_zz_imp = (hbar*c / (k * p_sca)) * (np.pi * na**2 / (48 * B_fw_z**2))\n"
     ]
    },
    {
     "data": {
      "text/plain": [
       "Text(0, 0.5, '$\\\\eta_{z, \\\\mathrm{forward}}$')"
      ]
     },
     "execution_count": 10,
     "metadata": {},
     "output_type": "execute_result"
    },
    {
     "data": {
      "image/png": "[encoded data removed]",
      "text/plain": [
       "<Figure size 700x300 with 1 Axes>"
      ]
     },
     "metadata": {},
     "output_type": "display_data"
    }
   ],
   "source": [
    "nas = np.linspace(0.1, 0.77, 100)\n",
    "imp_z_forward = np.empty(nas.size)\n",
    "\n",
    "for i, na in enumerate(nas):\n",
    "    imp_z_forward[i] = get_imprecision_forward_z(p_sca, 0.77, na)\n",
    "\n",
    "plt.plot(nas, S_zz_imp_perfect/imp_z_forward)\n",
    "plt.xlabel('Collection NA')\n",
    "plt.ylabel(r'$\\eta_{z, \\mathrm{forward}}$')"
   ]
  },
  {
   "cell_type": "code",
   "execution_count": 11,
   "id": "2c7920a2-8605-4d3e-97d3-98bb48b6c85a",
   "metadata": {},
   "outputs": [
    {
     "name": "stdout",
     "output_type": "stream",
     "text": [
      "Estimated (single sided) imprecision noise: 1.69e-21 m^2/Hz assume NA=0.5 collection and attenuation by a factor of 0.0014\n"
     ]
    }
   ],
   "source": [
    "# Because we only use 0.0014 of the actual scattered photon\n",
    "# so simply scale by that factor\n",
    "S_zz_imp_actual = get_imprecision_forward_z(p_sca, na_tl=0.77, na_cl=0.7) / 0.0014\n",
    "S_z_imp_actual = 2 * S_zz_imp_actual\n",
    "\n",
    "print(f'Estimated (single sided) imprecision noise: {S_z_imp_actual:.2e} m^2/Hz assume NA=0.5 collection and attenuation by a factor of 0.0014')"
   ]
  },
  {
   "cell_type": "code",
   "execution_count": null,
   "id": "58b90e1c-a3e8-432b-a15a-bbf0634d80dd",
   "metadata": {},
   "outputs": [],
   "source": []
  }
 ],
 "metadata": {
  "kernelspec": {
   "display_name": "Python 3 (ipykernel)",
   "language": "python",
   "name": "python3"
  },
  "language_info": {
   "codemirror_mode": {
    "name": "ipython",
    "version": 3
   },
   "file_extension": ".py",
   "mimetype": "text/x-python",
   "name": "python",
   "nbconvert_exporter": "python",
   "pygments_lexer": "ipython3",
   "version": "3.9.18"
  }
 },
 "nbformat": 4,
 "nbformat_minor": 5
}

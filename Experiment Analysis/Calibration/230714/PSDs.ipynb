{
 "cells": [
  {
   "attachments": {},
   "cell_type": "markdown",
   "id": "966a83f1",
   "metadata": {},
   "source": []
  },
  {
   "cell_type": "code",
   "execution_count": null,
   "id": "a7d59db2",
   "metadata": {},
   "outputs": [],
   "source": [
    "import numpy as np\n",
    "import matplotlib.pyplot as plt\n",
    "import scipy.signal as scisig\n",
    "import scipy.io as sio\n",
    "import scipy.optimize as opt\n",
    "\n",
    "import scipy\n",
    "from scipy.signal import butter, lfilter\n",
    "\n",
    "def butter_lowpass(highcut, fs, order=5):\n",
    "    nyq = 0.5 * fs\n",
    "    high = highcut / nyq\n",
    "    b, a = butter(order, high, btype='lowpass')\n",
    "    return b, a\n",
    "\n",
    "def butter_lowpass_filter(data, highcut, fs, order=5):\n",
    "    b, a = butter_lowpass(highcut, fs, order=order)\n",
    "    y = lfilter(b, a, data)\n",
    "    return y\n",
    "\n",
    "def charge_from_tt(signal, drive, centre_freq):\n",
    "    filt = butter_lowpass_filter(signal, centre_freq+3000, fs = 10**6, order=5)\n",
    "    filtfilt = butter_highpass_filter(filt, centre_freq-3000, fs = 10**6, order=5)\n",
    "    mod = filtfilt*drive\n",
    "    mod_filt = butter_lowpass_filter(mod, 1, fs = 10**6, order=2)\n",
    "    return mod_filt"
   ]
  },
  {
   "cell_type": "code",
   "execution_count": null,
   "id": "97eb6029",
   "metadata": {},
   "outputs": [],
   "source": []
  }
 ],
 "metadata": {
  "kernelspec": {
   "display_name": "Python 3 (ipykernel)",
   "language": "python",
   "name": "python3"
  },
  "language_info": {
   "codemirror_mode": {
    "name": "ipython",
    "version": 3
   },
   "file_extension": ".py",
   "mimetype": "text/x-python",
   "name": "python",
   "nbconvert_exporter": "python",
   "pygments_lexer": "ipython3",
   "version": "3.11.3"
  }
 },
 "nbformat": 4,
 "nbformat_minor": 5
}

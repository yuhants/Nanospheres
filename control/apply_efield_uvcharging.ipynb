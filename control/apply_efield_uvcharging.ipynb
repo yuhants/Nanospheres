{
 "cells": [
  {
   "cell_type": "markdown",
   "metadata": {},
   "source": [
    "Similar to generating a frequency comb, we want to add a large AC signal off resonance (~ 100 kHz) to help the electrons on the sphere come off."
   ]
  },
  {
   "cell_type": "code",
   "execution_count": 1,
   "metadata": {},
   "outputs": [],
   "source": [
    "import numpy as np\n",
    "import matplotlib.pyplot as plt\n",
    "\n",
    "from scipy.fft import fft, fftfreq, fftshift\n",
    "from scipy.signal import welch"
   ]
  },
  {
   "cell_type": "code",
   "execution_count": 4,
   "metadata": {},
   "outputs": [],
   "source": [
    "def get_ff(ff_want, ff_samp):\n",
    "    ff_want = np.asarray(ff_want)\n",
    "    ff = np.zeros_like(ff_want)\n",
    "    for i, f_want in enumerate(ff_want):\n",
    "          ff[i] = ff_samp[np.argmin(np.abs(ff_samp - f_want))]\n",
    "    return ff"
   ]
  },
  {
   "cell_type": "code",
   "execution_count": 9,
   "metadata": {},
   "outputs": [],
   "source": [
    "def get_signal(tt, ff, amp=None, phase=None):\n",
    "    sig = np.zeros_like(tt)\n",
    "\n",
    "    if amp is None:\n",
    "        amp = np.ones_like(ff)\n",
    "    if phase is None:\n",
    "        phase = np.zeros_like(ff)\n",
    "\n",
    "    for i, f in enumerate(ff):\n",
    "            sig += amp[i]*np.sin(2 * np.pi * f * tt + phase[i])\n",
    "            \n",
    "    return sig"
   ]
  },
  {
   "cell_type": "code",
   "execution_count": 2,
   "metadata": {},
   "outputs": [],
   "source": [
    "rep_rate = 100\n",
    "nsample = 8000"
   ]
  },
  {
   "cell_type": "code",
   "execution_count": 3,
   "metadata": {},
   "outputs": [],
   "source": [
    "tt = np.linspace(0, 1 / rep_rate, nsample)\n",
    "delta_t = tt[1] - tt[0]\n",
    "\n",
    "# FFT sample frequcies based on our choice of time resolution\n",
    "ff_samp = fftfreq(nsample, delta_t)"
   ]
  },
  {
   "cell_type": "code",
   "execution_count": 22,
   "metadata": {},
   "outputs": [],
   "source": [
    "amp_drive, amp_add = 1, 5\n",
    "f_drive, f_add = 69000, 200000\n",
    "ff_real = get_ff(np.asarray([f_drive, f_add]), ff_samp)"
   ]
  },
  {
   "cell_type": "code",
   "execution_count": 23,
   "metadata": {},
   "outputs": [],
   "source": [
    "# No need to optimize phase if the add signal is much larger\n",
    "sig = get_signal(tt, ff_real, [amp_drive, amp_add])"
   ]
  },
  {
   "cell_type": "code",
   "execution_count": 24,
   "metadata": {},
   "outputs": [
    {
     "data": {
      "text/plain": [
       "[<matplotlib.lines.Line2D at 0x2d304478490>]"
      ]
     },
     "execution_count": 24,
     "metadata": {},
     "output_type": "execute_result"
    },
    {
     "data": {
      "image/png": "[encoded data removed]",
      "text/plain": [
       "<Figure size 640x480 with 1 Axes>"
      ]
     },
     "metadata": {},
     "output_type": "display_data"
    }
   ],
   "source": [
    "sp = fftshift(fft(sig))\n",
    "freq = fftshift(fftfreq(tt.size, delta_t))\n",
    "\n",
    "plt.plot(freq, np.abs(sp))"
   ]
  },
  {
   "cell_type": "code",
   "execution_count": 26,
   "metadata": {},
   "outputs": [],
   "source": [
    "file_name = 'drive_signal_charging_69khz1v_200khz5v.npz'\n",
    "np.savez(file_name, sig=sig, tt=tt, ff=ff_real)"
   ]
  },
  {
   "cell_type": "code",
   "execution_count": 28,
   "metadata": {},
   "outputs": [
    {
     "data": {
      "text/plain": [
       "array([ 68991, 199975])"
      ]
     },
     "execution_count": 28,
     "metadata": {},
     "output_type": "execute_result"
    }
   ],
   "source": [
    "ff_real"
   ]
  },
  {
   "cell_type": "code",
   "execution_count": null,
   "metadata": {},
   "outputs": [],
   "source": []
  }
 ],
 "metadata": {
  "kernelspec": {
   "display_name": "Python 3 (ipykernel)",
   "language": "python",
   "name": "python3"
  },
  "language_info": {
   "codemirror_mode": {
    "name": "ipython",
    "version": 3
   },
   "file_extension": ".py",
   "mimetype": "text/x-python",
   "name": "python",
   "nbconvert_exporter": "python",
   "pygments_lexer": "ipython3",
   "version": "3.9.18"
  }
 },
 "nbformat": 4,
 "nbformat_minor": 4
}
